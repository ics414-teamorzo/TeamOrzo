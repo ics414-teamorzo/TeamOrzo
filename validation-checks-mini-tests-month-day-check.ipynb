{
 "cells": [
  {
   "cell_type": "code",
   "execution_count": 92,
   "metadata": {},
   "outputs": [
    {
     "data": {
      "text/plain": [
       "''"
      ]
     },
     "execution_count": 92,
     "metadata": {},
     "output_type": "execute_result"
    }
   ],
   "source": [
    "# imports\n",
    "\n",
    "# https://www.tutorialspoint.com/python/python_gui_programming.htm\n",
    "from tkinter import * \n",
    "\n",
    "master = Tk()\n",
    "master.title(\"Calendering System\")"
   ]
  },
  {
   "cell_type": "code",
   "execution_count": 93,
   "metadata": {},
   "outputs": [],
   "source": [
    "#### GRID NUMBERING #####\n",
    "titleR = 0\n",
    "titleC= 0\n",
    "\n",
    "sumR = titleR + 4\n",
    "\n",
    "startR = sumR + 1\n",
    "\n",
    "endR = startR + 2\n",
    "\n",
    "adR = endR + 2\n",
    "\n",
    "pR = adR + 2\n",
    "\n",
    "recR = pR + 1\n",
    "\n",
    "buttonR = recR + 2"
   ]
  },
  {
   "cell_type": "code",
   "execution_count": 94,
   "metadata": {},
   "outputs": [
    {
     "data": {
      "text/plain": [
       "'2398622075592change_dropdown'"
      ]
     },
     "execution_count": 94,
     "metadata": {},
     "output_type": "execute_result"
    }
   ],
   "source": [
    "#### DTSTART  ####\n",
    "Label(master, text=\"START:\").grid(row=startR, column=titleC)\n",
    "\n",
    "\n",
    "#### MONTHS ####\n",
    "# Create a Tkinter variable\n",
    "month= StringVar(master)\n",
    "\n",
    "# Dictionary with options\n",
    "months = [ \"---\", \"January\", \"Febuary\", \"March\", \"April\", \"May\", \"June\", \"July\", \n",
    "            \"August\", \"September\", \"October\", \"November\", \"December\" ]\n",
    "month.set('---') # set the default option\n",
    "\n",
    "monthMenu = OptionMenu(master, month, *months)\n",
    "Label(master, text=\"MONTH*\").grid(row = startR, column = titleC+1)\n",
    "monthMenu.grid(row = startR, column =titleC+2)\n",
    "\n",
    "# on change dropdown value\n",
    "def change_dropdown(*args):\n",
    "    print( month.get() )\n",
    "\n",
    "# link function to change dropdown\n",
    "month.trace('w', change_dropdown)\n",
    "    \n",
    "    \n",
    "#### DAYS ####\n",
    "# Create a Tkinter variable\n",
    "day= StringVar(master)\n",
    "\n",
    "# Dictionary with options\n",
    "days = [ \"--\", \"01\", \"02\", \"03\", \"04\", \"05\", \"06\", \"07\", \"08\", \"09\", \"10\", \"11\", \"12\", \n",
    "         \"13\", \"14\", \"15\", \"16\", \"17\", \"18\", \"19\", \"20\", \"21\", \"22\", \"23\", \"24\",  \n",
    "         \"25\", \"26\", \"27\", \"28\", \"29\", \"30\", \"31\"]\n",
    "day.set('--') # set the default option\n",
    "\n",
    "dayMenu = OptionMenu(master, day, *days)\n",
    "Label(master, text=\"DAY*\").grid(row = startR, column = titleC+3)\n",
    "dayMenu.grid(row = startR, column =titleC+4)\n",
    "  \n",
    "# on change dropdown value\n",
    "def change_dropdown(*args):\n",
    "    print( day.get() )\n",
    "\n",
    "# link function to change dropdown\n",
    "day.trace('w', change_dropdown)\n",
    "\n",
    "\n",
    "#### YEARS ####\n",
    "# Create a Tkinter variable\n",
    "year= StringVar(master)\n",
    "\n",
    "# Dictionary with options\n",
    "years = [ \"----\",\"2019\", \"2020\", \"2021\", \"2022\", \"2023\", \"2024\", \"2025\", \"2026\", \"2026\", \"2027\", \"2028\", \"2029\" ]\n",
    "year.set('----') # set the default option\n",
    "\n",
    "yearMenu = OptionMenu(master, year, *years)\n",
    "Label(master, text=\"YEAR*\").grid(row = startR, column = titleC+5)\n",
    "yearMenu.grid(row = startR, column =titleC+6)\n",
    "  \n",
    "# on change dropdown value\n",
    "def change_dropdown(*args):\n",
    "    print( year.get() )\n",
    "\n",
    "# link function to change dropdown\n",
    "year.trace('w', change_dropdown)\n",
    "\n",
    "\n",
    "#### HOURS ####\n",
    "# Create a Tkinter variable\n",
    "hour= StringVar(master)\n",
    "\n",
    "# Dictionary with options\n",
    "hours = [ \"--\", \"01\", \"02\", \"03\", \"04\", \"05\", \"06\", \"07\", \"08\", \"09\", \"10\", \"11\", \"12\", \n",
    "         \"13\", \"14\", \"15\", \"16\", \"17\", \"18\", \"19\", \"20\", \"21\", \"22\", \"23\", \"24\" ]\n",
    "hour.set('--') # set the default option\n",
    "\n",
    "hourMenu = OptionMenu(master, hour, *hours)\n",
    "Label(master, text=\"HOUR*\").grid(row = startR+1, column = titleC+1)\n",
    "hourMenu.grid(row = startR+1, column =titleC+2)\n",
    "\n",
    "# on change dropdown value\n",
    "def change_dropdown(*args):\n",
    "    print( hour.get() )\n",
    "\n",
    "# link function to change dropdown\n",
    "hour.trace('w', change_dropdown)\n",
    "\n",
    "\n",
    "#### MINUTES ####\n",
    "# Create a Tkinter variable\n",
    "minute= StringVar(master)\n",
    "\n",
    "# Dictionary with options\n",
    "minutes = [ \"--\",\"01\", \"02\", \"03\", \"04\", \"05\", \"06\", \"07\", \"08\", \"09\", \"10\", \"11\", \"12\", \n",
    "         \"13\", \"14\", \"15\", \"16\", \"17\", \"18\", \"19\", \"20\", \"21\", \"22\", \"23\", \"24\" ]\n",
    "minute.set('--') # set the default option\n",
    "\n",
    "minMenu = OptionMenu(master, minute, *minutes)\n",
    "Label(master, text=\"MINUTES*\").grid(row = startR+1, column = titleC+3)\n",
    "minMenu.grid(row = startR+1, column =titleC+4)\n",
    "\n",
    "# on change dropdown value\n",
    "def change_dropdown(*args):\n",
    "    print( minute.get() )\n",
    "\n",
    "# link function to change dropdown\n",
    "minute.trace('w', change_dropdown)"
   ]
  },
  {
   "cell_type": "code",
   "execution_count": 95,
   "metadata": {},
   "outputs": [],
   "source": [
    "def endOfMonth():\n",
    "    if month.get()=='Febuary':\n",
    "        if year.get()=='2020' or year.get()=='2024' or year.get()=='2028': #leap year\n",
    "            if day.get()=='30' or day.get()=='31': # invalid date\n",
    "                Label(master, text=\"Febuary only has 29 days for leap years\").grid(row = buttonR+4, column = titleC, columnspan=5)        \n",
    "                return False\n",
    "        else: #not a leap year\n",
    "            if day.get()=='29' or day.get()=='30' or day.get()=='31': # invalid date\n",
    "                Label(master, text=\"Febuary only has 28 days, the year specified is not a leap year\").grid(row = buttonR+3, column = titleC, columnspan=5)        \n",
    "                return False\n",
    "    elif month.get()=='April' or month.get()=='June' or month.get=='September'or month.get()=='November':\n",
    "        if day.get()=='31':\n",
    "            Label(master, text=\"%s only has 30 days\"%month.get()).grid(row = buttonR+4, column = titleC, columnspan=5)\n",
    "            return False\n",
    "    return True\n"
   ]
  },
  {
   "cell_type": "code",
   "execution_count": null,
   "metadata": {},
   "outputs": [],
   "source": []
  },
  {
   "cell_type": "code",
   "execution_count": 96,
   "metadata": {},
   "outputs": [],
   "source": [
    "save = Button(master, text=\"SAVE\", command=endOfMonth)\n",
    "save.grid(row=buttonR, column=6)"
   ]
  },
  {
   "cell_type": "code",
   "execution_count": 97,
   "metadata": {},
   "outputs": [
    {
     "name": "stdout",
     "output_type": "stream",
     "text": [
      "April\n",
      "31\n",
      "2023\n"
     ]
    }
   ],
   "source": [
    "#run interface ##leave at the bottom  ###will have a loading star as long as in use\n",
    "master.mainloop()"
   ]
  },
  {
   "cell_type": "code",
   "execution_count": null,
   "metadata": {},
   "outputs": [],
   "source": []
  }
 ],
 "metadata": {
  "kernelspec": {
   "display_name": "Python 3",
   "language": "python",
   "name": "python3"
  },
  "language_info": {
   "codemirror_mode": {
    "name": "ipython",
    "version": 3
   },
   "file_extension": ".py",
   "mimetype": "text/x-python",
   "name": "python",
   "nbconvert_exporter": "python",
   "pygments_lexer": "ipython3",
   "version": "3.7.1"
  }
 },
 "nbformat": 4,
 "nbformat_minor": 2
}
