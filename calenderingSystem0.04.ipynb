{
 "cells": [
  {
   "cell_type": "markdown",
   "metadata": {},
   "source": [
    "# Team Orzo\n",
    "\n",
    "### RFC 5545 Calendering.ics\n",
    "\n",
    "Neezha Dinman, Karissa Kuynh\n",
    "\n",
    "        A system to create .ics files that can be emailed or shared, and read into the recipient’s calendars. Functionality will include Versioning, Classification, Geographic Position, Priority, Summary, DTSTART, DTEND, Time Zone Identifier, some asspect of Recurring Events. Descriptions of functionality can be found at https://tools.ietf.org/html/rfc7986"
   ]
  },
  {
   "cell_type": "code",
   "execution_count": 233,
   "metadata": {},
   "outputs": [
    {
     "data": {
      "text/plain": [
       "''"
      ]
     },
     "execution_count": 233,
     "metadata": {},
     "output_type": "execute_result"
    }
   ],
   "source": [
    "# imports\n",
    "\n",
    "# https://www.tutorialspoint.com/python/python_gui_programming.htm\n",
    "from tkinter import * \n",
    "\n",
    "master = Tk()\n",
    "master.title(\"Calendering System\")"
   ]
  },
  {
   "cell_type": "markdown",
   "metadata": {},
   "source": [
    "## User Interface"
   ]
  },
  {
   "cell_type": "code",
   "execution_count": 234,
   "metadata": {},
   "outputs": [],
   "source": [
    "#### GRID NUMBERING #####\n",
    "titleR = 0\n",
    "titleC= 0\n",
    "\n",
    "sumR = titleR + 4\n",
    "\n",
    "startR = sumR + 1\n",
    "\n",
    "endR = startR + 2\n",
    "\n",
    "adR = endR + 2\n",
    "\n",
    "pR = adR + 2\n",
    "\n",
    "recR = pR + 1"
   ]
  },
  {
   "cell_type": "code",
   "execution_count": 235,
   "metadata": {},
   "outputs": [],
   "source": [
    "#### TITLE ####\n",
    "# label options columnspan=2  rowspan=2\n",
    "##tkinter .get button\n",
    "Label(master, text=\"CALENDERING SYSTEM\").grid(row=titleR, column = titleC, columnspan=10)\n",
    "Label(master, text=\"INSTRUCTIONS: Fill out all requiered fields inicaded by a * \").grid(row=titleR+1, column=titleC, columnspan=10)\n",
    "Label(master, text=\"Calendaring Event Name (inculde the .ics modifier): \").grid(row=titleR+2, column=titleC, columnspan=3)\n",
    "eventName = Entry(master)\n",
    "eventName.grid(row=titleR+2, column=titleC+3)"
   ]
  },
  {
   "cell_type": "code",
   "execution_count": 236,
   "metadata": {},
   "outputs": [],
   "source": [
    "####  SUMMARY  ####\n",
    "Label(master, text=\"SUMMARY:\").grid(row=sumR, column=titleC)\n",
    "description = Entry(master)\n",
    "description.grid(row=sumR, column=titleC+1)"
   ]
  },
  {
   "cell_type": "code",
   "execution_count": 237,
   "metadata": {},
   "outputs": [
    {
     "data": {
      "text/plain": [
       "'2264334437256change_dropdown'"
      ]
     },
     "execution_count": 237,
     "metadata": {},
     "output_type": "execute_result"
    }
   ],
   "source": [
    "#### DTSTART  ####\n",
    "Label(master, text=\"START:\").grid(row=startR,column=titleC)\n",
    "\n",
    "\n",
    "#### MONTHS ####\n",
    "# Create a Tkinter variable\n",
    "month= StringVar(master)\n",
    "\n",
    "# Dictionary with options\n",
    "months = { \"January\", \"Febuary\", \"March\", \"April\", \"May\", \"June\", \"July\", \"August\", \"September\", \"October\", \"November\", \"December\" }\n",
    "month.set('January') # set the default option\n",
    "\n",
    "monthMenu = OptionMenu(master, month, *months)\n",
    "Label(master, text=\"MONTH*\").grid(row = startR, column = titleC+1)\n",
    "monthMenu.grid(row = startR, column =titleC+2)\n",
    "\n",
    "# on change dropdown value\n",
    "def change_dropdown(*args):\n",
    "    print( month.get() )\n",
    "\n",
    "# link function to change dropdown\n",
    "month.trace('w', change_dropdown)\n",
    "    \n",
    "    \n",
    "#### DAYS ####\n",
    "# Create a Tkinter variable\n",
    "day= StringVar(master)\n",
    "\n",
    "# Dictionary with options\n",
    "days = { \"01\", \"02\", \"03\", \"04\", \"05\", \"06\", \"07\", \"08\", \"09\", \"10\", \"11\", \"12\", \n",
    "         \"13\", \"14\", \"15\", \"16\", \"17\", \"18\", \"19\", \"20\", \"21\", \"22\", \"23\", \"24\"  \n",
    "         \"25\", \"26\", \"27\", \"28\", \"29\", \"30\", \"31\"}\n",
    "day.set('01') # set the default option\n",
    "\n",
    "dayMenu = OptionMenu(master, day, *days)\n",
    "Label(master, text=\"DAY*\").grid(row = startR, column = titleC+3)\n",
    "dayMenu.grid(row = startR, column =titleC+4)\n",
    "  \n",
    "# on change dropdown value\n",
    "def change_dropdown(*args):\n",
    "    print( day.get() )\n",
    "\n",
    "# link function to change dropdown\n",
    "day.trace('w', change_dropdown)\n",
    "\n",
    "\n",
    "#### YEARS ####\n",
    "# Create a Tkinter variable\n",
    "year= StringVar(master)\n",
    "\n",
    "# Dictionary with options\n",
    "years = { \"2019\", \"2020\", \"2021\", \"2022\", \"2023\", \"2024\", \"2025\", \"2026\", \"2026\", \"2027\", \"2028\", \"2029\" }\n",
    "year.set('2019') # set the default option\n",
    "\n",
    "yearMenu = OptionMenu(master, year, *years)\n",
    "Label(master, text=\"YEAR*\").grid(row = startR, column = titleC+5)\n",
    "yearMenu.grid(row = startR, column =titleC+6)\n",
    "  \n",
    "# on change dropdown value\n",
    "def change_dropdown(*args):\n",
    "    print( year.get() )\n",
    "\n",
    "# link function to change dropdown\n",
    "year.trace('w', change_dropdown)\n",
    "\n",
    "\n",
    "#### HOURS ####\n",
    "# Create a Tkinter variable\n",
    "hour= StringVar(master)\n",
    "\n",
    "# Dictionary with options\n",
    "hours = { \"01\", \"02\", \"03\", \"04\", \"05\", \"06\", \"07\", \"08\", \"09\", \"10\", \"11\", \"12\", \n",
    "         \"13\", \"14\", \"15\", \"16\", \"17\", \"18\", \"19\", \"20\", \"21\", \"22\", \"23\", \"24\" }\n",
    "hour.set('01') # set the default option\n",
    "\n",
    "hourMenu = OptionMenu(master, hour, *hours)\n",
    "Label(master, text=\"HOUR*\").grid(row = startR+1, column = titleC+1)\n",
    "hourMenu.grid(row = startR+1, column =titleC+2)\n",
    "\n",
    "# on change dropdown value\n",
    "def change_dropdown(*args):\n",
    "    print( month.get() )\n",
    "\n",
    "# link function to change dropdown\n",
    "month.trace('w', change_dropdown)\n",
    "\n",
    "\n",
    "#### MINUTES ####\n",
    "# Create a Tkinter variable\n",
    "minute= StringVar(master)\n",
    "\n",
    "# Dictionary with options\n",
    "minutes = { \"01\", \"02\", \"03\", \"04\", \"05\", \"06\", \"07\", \"08\", \"09\", \"10\", \"11\", \"12\", \n",
    "         \"13\", \"14\", \"15\", \"16\", \"17\", \"18\", \"19\", \"20\", \"21\", \"22\", \"23\", \"24\" }\n",
    "minute.set('01') # set the default option\n",
    "\n",
    "minMenu = OptionMenu(master, minute, *minutes)\n",
    "Label(master, text=\"MINUTES*\").grid(row = startR+1, column = titleC+3)\n",
    "minMenu.grid(row = startR+1, column =titleC+4)\n",
    "\n",
    "# on change dropdown value\n",
    "def change_dropdown(*args):\n",
    "    print( minute.get() )\n",
    "\n",
    "# link function to change dropdown\n",
    "minute.trace('w', change_dropdown)\n",
    "\n"
   ]
  },
  {
   "cell_type": "code",
   "execution_count": 238,
   "metadata": {},
   "outputs": [
    {
     "data": {
      "text/plain": [
       "'2264334704712change_dropdown'"
      ]
     },
     "execution_count": 238,
     "metadata": {},
     "output_type": "execute_result"
    }
   ],
   "source": [
    "#### DTEND  ####\n",
    "Label(master, text=\"END\").grid(row=endR,column=titleC)\n",
    "\n",
    "\n",
    "#### MONTHS ####\n",
    "# Create a Tkinter variable\n",
    "monthE= StringVar(master)\n",
    "\n",
    "# Dictionary with options\n",
    "monthsE = { \"January\", \"Febuary\", \"March\", \"April\", \"May\", \"June\", \"July\", \"August\", \"September\", \"October\", \"November\", \"December\" }\n",
    "monthE.set('January') # set the default option\n",
    "\n",
    "monthMenuE = OptionMenu(master, monthE, *monthsE)\n",
    "Label(master, text=\"MONTH\").grid(row = endR, column = titleC+1)\n",
    "monthMenuE.grid(row = endR, column =titleC+2)\n",
    "\n",
    "# on change dropdown value\n",
    "def change_dropdown(*args):\n",
    "    print( monthE.get() )\n",
    "\n",
    "# link function to change dropdown\n",
    "monthE.trace('w', change_dropdown)\n",
    "    \n",
    "    \n",
    "#### DAYS ####\n",
    "# Create a Tkinter variable\n",
    "dayE= StringVar(master)\n",
    "\n",
    "# Dictionary with options\n",
    "daysE = { \"01\", \"02\", \"03\", \"04\", \"05\", \"06\", \"07\", \"08\", \"09\", \"10\", \"11\", \"12\", \n",
    "         \"13\", \"14\", \"15\", \"16\", \"17\", \"18\", \"19\", \"20\", \"21\", \"22\", \"23\", \"24\"  \n",
    "         \"25\", \"26\", \"27\", \"28\", \"29\", \"30\", \"31\"}\n",
    "dayE.set('01') # set the default option\n",
    "\n",
    "dayMenuE = OptionMenu(master, dayE, *daysE)\n",
    "Label(master, text=\"DAY\").grid(row = endR, column = titleC+3)\n",
    "dayMenuE.grid(row = endR, column =titleC+4)\n",
    "  \n",
    "# on change dropdown value\n",
    "def change_dropdown(*args):\n",
    "    print( dayE.get() )\n",
    "\n",
    "# link function to change dropdown\n",
    "dayE.trace('w', change_dropdown)\n",
    "\n",
    "#### YEARS ####\n",
    "# Create a Tkinter variable\n",
    "yearE= StringVar(master)\n",
    "\n",
    "# Dictionary with options\n",
    "yearsE = { \"2019\", \"2020\", \"2021\", \"2022\", \"2023\", \"2024\", \"2025\", \"2026\", \"2026\", \"2027\", \"2028\", \"2029\" }\n",
    "yearE.set('2019') # set the default option\n",
    "\n",
    "yearMenuE = OptionMenu(master, yearE, *yearsE)\n",
    "Label(master, text=\"YEAR\").grid(row = endR, column = titleC+5)\n",
    "yearMenuE.grid(row = endR, column =titleC+6)\n",
    "  \n",
    "# on change dropdown value\n",
    "def change_dropdown(*args):\n",
    "    print( yearE.get() )\n",
    "\n",
    "# link function to change dropdown\n",
    "yearE.trace('w', change_dropdown)\n",
    "\n",
    "\n",
    "\n"
   ]
  },
  {
   "cell_type": "code",
   "execution_count": 239,
   "metadata": {},
   "outputs": [],
   "source": [
    "####  GEOGRAPHICAL LOACTION / TIME ZONE / LOCATION / ADDRESS  ####\n",
    "Label(master, text=\"ADDRESS:\").grid(row=adR,column=titleC)\n",
    "\n",
    "Label(master, text=\"Street\").grid(row=adR,column=titleC+1)\n",
    "Label(master, text=\"Town/City\").grid(row=adR+1,column=titleC+1)\n",
    "Label(master, text=\"State\").grid(row=adR+1,column=titleC+3)\n",
    "Label(master, text=\"Zipcode\").grid(row=adR+1,column=titleC+5)\n",
    "\n",
    "street = Entry(master)\n",
    "town = Entry(master)\n",
    "state = Entry(master)\n",
    "zipcode = Entry(master)\n",
    "\n",
    "street.grid(row=adR, column=titleC+2)\n",
    "town.grid(row=adR+1, column=titleC+2)\n",
    "state.grid(row=adR+1, column=titleC+4)\n",
    "zipcode.grid(row=adR+1, column=titleC+6)"
   ]
  },
  {
   "cell_type": "code",
   "execution_count": 240,
   "metadata": {},
   "outputs": [
    {
     "data": {
      "text/plain": [
       "'2264319536648change_dropdown'"
      ]
     },
     "execution_count": 240,
     "metadata": {},
     "output_type": "execute_result"
    }
   ],
   "source": [
    "####  PRIORITY  ####\n",
    "Label(master, text=\"PRIORITY\").grid(row=pR, column=titleC)\n",
    "\n",
    "# Create a Tkinter variable\n",
    "pri= StringVar(master)\n",
    "\n",
    "# Dictionary with options\n",
    "prio = { \"0\", \"1\", \"2\", \"3\", \"4\", \"5\", \"6\", \"7\", \"8\", \"9\" }\n",
    "pri.set('01') # set the default option\n",
    "\n",
    "priMenu = OptionMenu(master, pri, *prio)\n",
    "priMenu.grid(row = pR, column =titleC+1)\n",
    "\n",
    "# on change dropdown value\n",
    "def change_dropdown(*args):\n",
    "    print( pri.get() )\n",
    "\n",
    "# link function to change dropdown\n",
    "pri.trace('w', change_dropdown)"
   ]
  },
  {
   "cell_type": "code",
   "execution_count": 241,
   "metadata": {},
   "outputs": [],
   "source": [
    "####  RECURANCE  ####\n",
    "Label(master, text=\"RECURANCE\").grid(row=recR, column=titleC)\n"
   ]
  },
  {
   "cell_type": "code",
   "execution_count": 242,
   "metadata": {},
   "outputs": [],
   "source": [
    "####   SAVE OR CHANGE FILE  ####\n",
    "# http://www.pythonlake.com/tkinterbuttongrid\n",
    "save = Button(master, text=\"SAVE\")\n",
    "save.grid(row=recR+2, column=titleC)"
   ]
  },
  {
   "cell_type": "markdown",
   "metadata": {},
   "source": [
    "### "
   ]
  },
  {
   "cell_type": "code",
   "execution_count": 134,
   "metadata": {},
   "outputs": [],
   "source": [
    "#Store User Input"
   ]
  },
  {
   "cell_type": "markdown",
   "metadata": {},
   "source": [
    "## Calender Functionality"
   ]
  },
  {
   "cell_type": "code",
   "execution_count": 135,
   "metadata": {},
   "outputs": [
    {
     "name": "stdout",
     "output_type": "stream",
     "text": [
      "Enter file name: tester01.ics\n"
     ]
    }
   ],
   "source": [
    "#create new file if requested file does not exist\n",
    "#https://stackoverflow.com/questions/35807605/create-a-file-if-it-doesnt-exist\n",
    "fn = input('Enter file name: ')\n",
    "try:\n",
    "    file = open(fn, 'r')\n",
    "except IOError:\n",
    "    file = open(fn, 'w')"
   ]
  },
  {
   "cell_type": "code",
   "execution_count": 243,
   "metadata": {},
   "outputs": [],
   "source": [
    "#run interface ##leave at the bottom  ###will have a loading star as long as in use\n",
    "master.mainloop()"
   ]
  },
  {
   "cell_type": "code",
   "execution_count": 95,
   "metadata": {},
   "outputs": [],
   "source": [
    "file.close()"
   ]
  },
  {
   "cell_type": "code",
   "execution_count": null,
   "metadata": {},
   "outputs": [],
   "source": []
  }
 ],
 "metadata": {
  "kernelspec": {
   "display_name": "Python 3",
   "language": "python",
   "name": "python3"
  },
  "language_info": {
   "codemirror_mode": {
    "name": "ipython",
    "version": 3
   },
   "file_extension": ".py",
   "mimetype": "text/x-python",
   "name": "python",
   "nbconvert_exporter": "python",
   "pygments_lexer": "ipython3",
   "version": "3.7.1"
  }
 },
 "nbformat": 4,
 "nbformat_minor": 2
}
