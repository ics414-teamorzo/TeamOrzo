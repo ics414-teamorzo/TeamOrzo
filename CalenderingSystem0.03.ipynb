{
 "cells": [
  {
   "cell_type": "markdown",
   "metadata": {},
   "source": [
    "# Team Orzo\n",
    "\n",
    "### RFC 5545 Calendering.ics\n",
    "\n",
    "Neezha Dinman, Karissa Kuynh\n",
    "\n",
    "        A system to create .ics files that can be emailed or shared, and read into the recipient’s calendars. Functionality will include Versioning, Classification, Geographic Position, Priority, Summary, DTSTART, DTEND, Time Zone Identifier, some asspect of Recurring Events. Descriptions of functionality can be found at https://tools.ietf.org/html/rfc7986"
   ]
  },
  {
   "cell_type": "code",
   "execution_count": 6,
   "metadata": {},
   "outputs": [],
   "source": [
    "#imports"
   ]
  },
  {
   "cell_type": "markdown",
   "metadata": {},
   "source": [
    "## User Interface"
   ]
  },
  {
   "cell_type": "markdown",
   "metadata": {},
   "source": [
    "## Calendering Functionality"
   ]
  },
  {
   "cell_type": "code",
   "execution_count": null,
   "metadata": {},
   "outputs": [],
   "source": [
    "#create new file if requested file does not exist\n",
    "#https://stackoverflow.com/questions/35807605/create-a-file-if-it-doesnt-exist\n",
    "fn = input('Enter file name: ')\n",
    "\n",
    "event = open(fn, 'w')\n",
    "event.write(\"BEGIN:VCALENDAR\\n\")\n",
    "event.write(\"VERSION:2.0\\n\")\n",
    "event.write(\"PRODID:-//EXAMPLECAL//EXAMPLECALENDAR v1.0//EN\\n\")\n",
    "event.write(\"BEGIN:VEVENT\\n\")\n",
    "event.write(\"DTSTART:20190728T160000\\n\")\n",
    "event.write(\"DTEND:20190728T170000\\n\")\n",
    "    #user input summary\n",
    "try:\n",
    "    SUM = input('Enter Summary: ')\n",
    "except SyntaxError:\n",
    "    SUM = None    \n",
    "if SUM is not None: \n",
    "    event.write(\"SUMMARY:%s\\n\" %SUM)\n",
    "elif SUM is None:\n",
    "    enter.write(\"SUMMARY:\\n\")\n",
    "#user input location\n",
    "try:\n",
    "    PLACE = input('Enter Location: ')\n",
    "except SyntaxError:\n",
    "    PLACE = None    \n",
    "if PLACE is not None: \n",
    "    event.write(\"LOCATION:%s\\n\" %PLACE)\n",
    "elif PLACE is None:\n",
    "    event.write(\"LOCATION:UH Manoa\\n\")\n",
    "event.write(\"END:VEVENT\\n\")\n",
    "event.write(\"END:VCALENDAR\\n\")"
   ]
  },
  {
   "cell_type": "code",
   "execution_count": 16,
   "metadata": {},
   "outputs": [
    {
     "ename": "SyntaxError",
     "evalue": "unexpected EOF while parsing (<ipython-input-16-c76abf670cde>, line 9)",
     "output_type": "error",
     "traceback": [
      "\u001b[0;36m  File \u001b[0;32m\"<ipython-input-16-c76abf670cde>\"\u001b[0;36m, line \u001b[0;32m9\u001b[0m\n\u001b[0;31m    ## HOW DO YOU EDIT A SPECIFIC PART OF A FILE ( ´•̥̥̥ △ •̥̥̥` )\u001b[0m\n\u001b[0m                                                                   ^\u001b[0m\n\u001b[0;31mSyntaxError\u001b[0m\u001b[0;31m:\u001b[0m unexpected EOF while parsing\n"
     ]
    }
   ],
   "source": [
    "# Prompt to change summary \n",
    "try:\n",
    "    SUM = input('Change Summary (leave empty if no change): ')\n",
    "except SyntaxError:\n",
    "    SUM = None\n",
    "    \n",
    "# not just 'if y:' because 0 evaluates to False!\n",
    "if y is not None:\n",
    "    ## HOW DO YOU EDIT A SPECIFIC PART OF A FILE ( ´•̥̥̥ △ •̥̥̥` ) "
   ]
  },
  {
   "cell_type": "code",
   "execution_count": 17,
   "metadata": {},
   "outputs": [],
   "source": [
    "event.close()"
   ]
  },
  {
   "cell_type": "code",
   "execution_count": null,
   "metadata": {},
   "outputs": [],
   "source": []
  }
 ],
 "metadata": {
  "kernelspec": {
   "display_name": "Python 3",
   "language": "python",
   "name": "python3"
  },
  "language_info": {
   "codemirror_mode": {
    "name": "ipython",
    "version": 3
   },
   "file_extension": ".py",
   "mimetype": "text/x-python",
   "name": "python",
   "nbconvert_exporter": "python",
   "pygments_lexer": "ipython3",
   "version": "3.7.1"
  }
 },
 "nbformat": 4,
 "nbformat_minor": 2
}
