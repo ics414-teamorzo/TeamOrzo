{
 "cells": [
  {
   "cell_type": "code",
   "execution_count": 25,
   "metadata": {},
   "outputs": [],
   "source": [
    "from tkinter import * "
   ]
  },
  {
   "cell_type": "code",
   "execution_count": 26,
   "metadata": {},
   "outputs": [
    {
     "data": {
      "text/plain": [
       "''"
      ]
     },
     "execution_count": 26,
     "metadata": {},
     "output_type": "execute_result"
    }
   ],
   "source": [
    "master = Tk()\n",
    "master.title(\"Calendering System\") \n"
   ]
  },
  {
   "cell_type": "code",
   "execution_count": 27,
   "metadata": {},
   "outputs": [],
   "source": [
    "#### GRID NUMBERING #####\n",
    "titleR = 0\n",
    "titleC= 0\n",
    "\n",
    "sumR = titleR + 4\n",
    "\n",
    "startR = sumR + 1\n",
    "\n",
    "endR = startR + 2\n",
    "\n",
    "adR = endR + 2\n",
    "\n",
    "pR = adR + 2\n",
    "\n",
    "recR = pR + 1\n",
    "\n",
    "buttonR = recR + 2"
   ]
  },
  {
   "cell_type": "code",
   "execution_count": 28,
   "metadata": {},
   "outputs": [],
   "source": [
    "su = IntVar()\n",
    "mo = IntVar()\n",
    "tu = IntVar()\n",
    "we = IntVar()\n",
    "th = IntVar()\n",
    "fr = IntVar()\n",
    "sa = IntVar()"
   ]
  },
  {
   "cell_type": "code",
   "execution_count": 29,
   "metadata": {},
   "outputs": [],
   "source": [
    "####  RECURANCE  ####\n",
    "Label(master, text=\"RECURANCE\").grid(row=recR, column=titleC)\n"
   ]
  },
  {
   "cell_type": "code",
   "execution_count": 30,
   "metadata": {},
   "outputs": [
    {
     "data": {
      "text/plain": [
       "'2553576346248change_dropdown'"
      ]
     },
     "execution_count": 30,
     "metadata": {},
     "output_type": "execute_result"
    }
   ],
   "source": [
    "# Create a Tkinter variable\n",
    "interval= StringVar(master)\n",
    "freq=StringVar(master)\n",
    "\n",
    "intervals = [ \"--\", \"1\", \"2\", \"3\", \"4\", \"5\", \"6\", \"7\", \"8\", \"9\", \"10\"]\n",
    "interval.set(\"--\") # set the default option\n",
    "\n",
    "frequencies = [\"----\", \"Year(s)\", \"Month(s)\", \"Week(s)\", \"Day(s)\"]\n",
    "freq.set(\"----\")\n",
    "\n",
    "interMenu = OptionMenu(master, interval, *intervals)\n",
    "freqMenu = OptionMenu(master, freq, *frequencies)\n",
    "Label(master, text=\"Repeat Every:\").grid(row=recR+1, column=titleC+1)\n",
    "interMenu.grid(row = recR+1, column =titleC+2)\n",
    "freqMenu.grid(row=recR+1, column=titleC+3)\n",
    "\n",
    "# on change dropdown value\n",
    "def change_dropdown(*args):\n",
    "    print( interval.get() )\n",
    "    print( freq.get() )\n",
    "\n",
    "# link function to change dropdown\n",
    "interval.trace('w', change_dropdown)\n",
    "freq.trace('w',change_dropdown)"
   ]
  },
  {
   "cell_type": "code",
   "execution_count": 31,
   "metadata": {},
   "outputs": [
    {
     "data": {
      "text/plain": [
       "'2553576429256change_dropdown'"
      ]
     },
     "execution_count": 31,
     "metadata": {},
     "output_type": "execute_result"
    }
   ],
   "source": [
    "# Create a Tkinter variable\n",
    "occurence= StringVar(master)\n",
    "\n",
    "occurences = [ \"--\",\"On going\", \"1\", \"2\", \"3\", \"4\", \"5\", \"6\", \"7\", \"8\", \"9\", \"10\" ]\n",
    "occurence.set(\"--\") # set the default option\n",
    "\n",
    "occMenu = OptionMenu(master, occurence, *occurences)\n",
    "Label(master, text=\"Occurences:\").grid(row=recR+1, column=titleC+5)\n",
    "occMenu.grid(row = recR+1, column =titleC+6)\n",
    "\n",
    "# on change dropdown value\n",
    "def change_dropdown(*args):\n",
    "    print( occurence.get() )\n",
    "\n",
    "# link function to change dropdown\n",
    "occurence.trace('w', change_dropdown)"
   ]
  },
  {
   "cell_type": "code",
   "execution_count": 32,
   "metadata": {},
   "outputs": [],
   "source": [
    "\n",
    "Checkbutton(master, text=\"Sunday\", variable=su).grid(row=recR+2, column=titleC+2)\n",
    "Checkbutton(master, text=\"Monday\", variable=mo).grid(row=recR+2, column=titleC+3)\n",
    "Checkbutton(master, text=\"Tuesday\", variable=tu).grid(row=recR+2, column=titleC+4)\n",
    "Checkbutton(master, text=\"Wednesday\", variable=we).grid(row=recR+2, column=titleC+5)\n",
    "Checkbutton(master, text=\"Thursday\", variable=th).grid(row=recR+3, column=titleC+2, columnspan=2)\n",
    "Checkbutton(master, text=\"Friday\", variable=fr).grid(row=recR+3, column=titleC+3, columnspan=2)\n",
    "Checkbutton(master, text=\"Saturday\", variable=sa).grid(row=recR+3, column=titleC+4,columnspan=2)\n"
   ]
  },
  {
   "cell_type": "code",
   "execution_count": 33,
   "metadata": {},
   "outputs": [
    {
     "name": "stdout",
     "output_type": "stream",
     "text": [
      "--\n",
      "Day(s)\n",
      "2\n",
      "Day(s)\n",
      "1\n"
     ]
    }
   ],
   "source": [
    "mainloop()"
   ]
  },
  {
   "cell_type": "markdown",
   "metadata": {},
   "source": [
    "interval.get()           [ \"--\", \"1\", \"2\", \"3\", \"4\", \"5\", \"6\", \"7\", \"8\", \"9\", \"10\"]\n",
    "freq.get()               [\"----\", \"Year(s)\", \"Month(s)\", \"Week(s)\", \"Day(s)\"]\n",
    "occurence.get()          [ \"--\",\"On going\", \"1\", \"2\", \"3\", \"4\", \"5\", \"6\", \"7\", \"8\", \"9\", \"10\" ]\n",
    "su.get()                 = 1 checked\n",
    "mo.get()                 = 0 not checked"
   ]
  },
  {
   "cell_type": "code",
   "execution_count": 53,
   "metadata": {},
   "outputs": [
    {
     "name": "stdout",
     "output_type": "stream",
     "text": [
      "1\n",
      "2\n",
      "3\n",
      "[0, 0, 0, 0, 1, 1, 1]\n",
      "['SU', 'MO', 'TU', 'WE', 'TH', 'FR', 'SA']\n",
      "RRULE:INTERVAL=2,WKST=SU,FREQ=DAILY,COUNT=1,BYDAY=TH,FR,SA\n"
     ]
    }
   ],
   "source": [
    "intervalBoo = False\n",
    "freqBoo = False\n",
    "occBoo = False\n",
    "\n",
    "if interval.get() !=  \"--\":\n",
    "    intervalStr = \"INTERVAL=%s\"%interval.get()\n",
    "    intervalBoo = True\n",
    "else:\n",
    "    intervalStr = \"\"\n",
    "    \n",
    "if freq.get() != \"----\":\n",
    "    freqBoo = True\n",
    "    if freq.get() == \"Year(s)\":\n",
    "        freqStr = \"FREQ=YEARLY\"\n",
    "    elif freq.get() == \"Month(s)\":\n",
    "        freqStr = \"FREQ=MONTHLY\"\n",
    "    elif freq.get() == \"Week(s)\":\n",
    "        freqStr = \"FREQ=WEEKLY\"\n",
    "    elif freq.get() == \"Day(s)\":\n",
    "        freqStr = \"FREQ=DAILY\"\n",
    "else:\n",
    "    freqStr = \"\"\n",
    "        \n",
    "if occurence.get() != \"--\" and occurence.get() != \"On going\":\n",
    "    occBoo = True\n",
    "    occStr = \"COUNT=%s\"%occurence.get()\n",
    "else:\n",
    "    occStr = \"\"\n",
    "\n",
    "    \n",
    "byDayStr = [\"SU\", \"MO\", \"TU\", \"WE\", \"TH\", \"FR\", \"SA\"]\n",
    "byDayBoo = [su.get(), mo.get(), tu.get(), we.get(), th.get(), fr.get(), sa.get() ]\n",
    "\n",
    "numOfDays = 0\n",
    "for i in range(len(byDayBoo)):\n",
    "    #print(i)\n",
    "    #if byDayBoo[i] == 1: print(\"1.\")\n",
    "    #if byDayBoo[i] == \"1\": print(\"one\")\n",
    "    #if byDayBoo[i] == 0: print(\"0.\")\n",
    "    #if byDayBoo[i] == \"0\": print(\"zero\")\n",
    "    #if i == 1: print(\"i=1\")\n",
    "    #if i == 0: print(\"i=0\")\n",
    "    if byDayBoo[i] == 1:\n",
    "        numOfDays += 1\n",
    "        if numOfDays == 1:\n",
    "            dayStr = \"BYDAY=%s\"%byDayStr[i]\n",
    "        if numOfDays > 1:\n",
    "             dayStr += \",%s\"%byDayStr[i]\n",
    "if numOfDays == 0:\n",
    "    dayStr = \"BYDAY=MO\" #if no day of the week selected automatically chose Monday\n",
    "\n",
    "\n",
    "print(byDayBoo)\n",
    "print(byDayStr)\n",
    "reoccuranceRule = \"RRULE:%s,WKST=SU,%s,%s,%s\"%(intervalStr, freqStr, occStr, dayStr)\n",
    "print(reoccuranceRule)"
   ]
  },
  {
   "cell_type": "code",
   "execution_count": 11,
   "metadata": {},
   "outputs": [],
   "source": [
    "su.set(0)"
   ]
  },
  {
   "cell_type": "code",
   "execution_count": null,
   "metadata": {},
   "outputs": [],
   "source": []
  }
 ],
 "metadata": {
  "kernelspec": {
   "display_name": "Python 3",
   "language": "python",
   "name": "python3"
  },
  "language_info": {
   "codemirror_mode": {
    "name": "ipython",
    "version": 3
   },
   "file_extension": ".py",
   "mimetype": "text/x-python",
   "name": "python",
   "nbconvert_exporter": "python",
   "pygments_lexer": "ipython3",
   "version": "3.7.1"
  }
 },
 "nbformat": 4,
 "nbformat_minor": 2
}
