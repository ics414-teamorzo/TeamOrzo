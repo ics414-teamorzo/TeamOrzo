{
 "cells": [
  {
   "cell_type": "markdown",
   "metadata": {},
   "source": [
    "# Team Orzo\n",
    "\n",
    "### RFC 5545 Calendering.ics\n",
    "\n",
    "Neezha Dinman, Karissa Kuynh\n",
    "\n",
    "        A system to create .ics files that can be emailed or shared, and read into the recipient’s calendars. Functionality will include Versioning, Classification, Geographic Position, Priority, Summary, DTSTART, DTEND, Time Zone Identifier, some asspect of Recurring Events. Descriptions of functionality can be found at https://tools.ietf.org/html/rfc7986"
   ]
  },
  {
   "cell_type": "code",
   "execution_count": 6,
   "metadata": {},
   "outputs": [],
   "source": [
    "#imports"
   ]
  },
  {
   "cell_type": "markdown",
   "metadata": {},
   "source": [
    "## User Interface"
   ]
  },
  {
   "cell_type": "markdown",
   "metadata": {},
   "source": [
    "## Calendering Functionality"
   ]
  },
  {
   "cell_type": "code",
   "execution_count": 11,
   "metadata": {},
   "outputs": [
    {
     "name": "stdout",
     "output_type": "stream",
     "text": [
      "Enter file name: test03.ics\n"
     ]
    }
   ],
   "source": [
    "#create new file if requested file does not exist\n",
    "#https://stackoverflow.com/questions/35807605/create-a-file-if-it-doesnt-exist\n",
    "fn = input('Enter file name: ')\n",
    "try:\n",
    "    event = open(fn, 'r')\n",
    "except IOError:\n",
    "    event = open(fn, 'w')\n",
    "    event.write(\"BEGIN:VCALENDAR\\n\")\n",
    "    event.write(\"VERSION:2.0\\n\")\n",
    "    event.write(\"PRODID:-//EXAMPLECAL//EXAMPLECALENDAR v1.0//EN\\n\")\n",
    "    event.write(\"BEGIN:VEVENT\\n\")\n",
    "    event.write(\"DTSTART:20190728T160000\\n\")\n",
    "    event.write(\"DTEND:20190728T170000\\n\")\n",
    "    event.write(\"SUMMARY:Go to School\\n\")\n",
    "    event.write(\"LOCATION:UH Manoa\\n\")        \n",
    "    event.write(\"END:VEVENT\\n\")\n",
    "    event.write(\"END:VCALENDAR\\n\")"
   ]
  },
  {
   "cell_type": "code",
   "execution_count": 12,
   "metadata": {},
   "outputs": [],
   "source": [
    "event.close()"
   ]
  },
  {
   "cell_type": "code",
   "execution_count": 10,
   "metadata": {},
   "outputs": [],
   "source": []
  },
  {
   "cell_type": "code",
   "execution_count": null,
   "metadata": {},
   "outputs": [],
   "source": []
  }
 ],
 "metadata": {
  "kernelspec": {
   "display_name": "Python 3",
   "language": "python",
   "name": "python3"
  },
  "language_info": {
   "codemirror_mode": {
    "name": "ipython",
    "version": 3
   },
   "file_extension": ".py",
   "mimetype": "text/x-python",
   "name": "python",
   "nbconvert_exporter": "python",
   "pygments_lexer": "ipython3",
   "version": "3.7.1"
  }
 },
 "nbformat": 4,
 "nbformat_minor": 2
}
