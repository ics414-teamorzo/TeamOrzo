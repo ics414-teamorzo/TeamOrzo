{
 "cells": [
  {
   "cell_type": "markdown",
   "metadata": {},
   "source": [
    "# Team Orzo\n",
    "\n",
    "### RFC 5545 Calendering.ics\n",
    "\n",
    "Neezha Dinman, Karissa Kuynh\n",
    "\n",
    "        A system to create .ics files that can be emailed or shared, and read into the recipient’s calendars. Functionality will include Versioning, Classification, Geographic Position, Priority, Summary, DTSTART, DTEND, Time Zone Identifier, some asspect of Recurring Events. Descriptions of functionality can be found at https://tools.ietf.org/html/rfc7986"
   ]
  },
  {
   "cell_type": "code",
   "execution_count": 32,
   "metadata": {},
   "outputs": [],
   "source": [
    "# imports\n",
    "\n",
    "# https://www.tutorialspoint.com/python/python_gui_programming.htm\n",
    "from tkinter import * \n",
    "from tkFileDialog   import askopenfilename\n",
    "master = Tk()"
   ]
  },
  {
   "cell_type": "markdown",
   "metadata": {},
   "source": [
    "## User Interface"
   ]
  },
  {
   "cell_type": "code",
   "execution_count": 34,
   "metadata": {},
   "outputs": [],
   "source": [
    "#### TITLE ####\n",
    "# label options columnspan=2  rowspan=2\n",
    "##tkinter .get button\n",
    "Label(master, text=\"CALENDERING SYSTEM\").grid(row=0, column=0, columnspan=4)\n",
    "Label(master, text=\"INSTRUCTIONS: Fill out all requiered fields inicaded by a * \").grid(row=1, column=0, columnspan=4)\n",
    "Label(master, text=\"Calendaring Event Name (inculde the .ics modifier): \").grid(row=2, column=0, columnspan=3)"
   ]
  },
  {
   "cell_type": "code",
   "execution_count": 35,
   "metadata": {},
   "outputs": [],
   "source": [
    "MONTHS = [\n",
    "\"January\", \"Febuary\", \"March\", \"April\", \"May\", \"June\", \"July\", \"August\", \"September\", \"October\", \"November\", \"December\"\n",
    "] "
   ]
  },
  {
   "cell_type": "code",
   "execution_count": 36,
   "metadata": {},
   "outputs": [],
   "source": [
    "master.title(\"Listbox\")\n",
    "\n",
    "months = Listbox(master, selectbackground=\"Blue\")\n",
    "\n",
    "for month in MONTHS:\n",
    "    months.insert(END, month)"
   ]
  },
  {
   "cell_type": "code",
   "execution_count": 37,
   "metadata": {},
   "outputs": [],
   "source": [
    "# Open ended feilds\n",
    "sumRow = 3\n",
    "dtstartRow = 4\n",
    "dtendRow = 5\n",
    "monthRow = 6\n",
    "Label(master, text=\"SUMMARY\").grid(row=3, column=0)\n",
    "Label(master, text=\"DTSTART\").grid(row=4,column=0)\n",
    "Label(master, text=\"DTEND\").grid(row=5,column=0)\n",
    "Label(master, text=\"MONTH\").grid(row=6,column=0)\n",
    "\n",
    "e1 = Entry(master)\n",
    "e2 = Entry(master)\n",
    "e3 = Entry(master)\n",
    "# ms = OptionMenu(master, month, *MONTHS)\n",
    "\n",
    "#ms.pack(side=tk.RIGHT)\n",
    "#e1.pack(side=tk.LEFT)\n",
    "#e2.pack(side=tk.LEFT)\n",
    "#e3.pack(side=tk.LEFT)\n",
    "\n",
    "e1.grid(row=3, column=1)\n",
    "e2.grid(row=4, column=1)\n",
    "e3.grid(row=5, column=1)\n",
    "months.grid(row=6, column=1)"
   ]
  },
  {
   "cell_type": "markdown",
   "metadata": {},
   "source": [
    "### "
   ]
  },
  {
   "cell_type": "code",
   "execution_count": 10,
   "metadata": {},
   "outputs": [],
   "source": [
    "#Store User Input"
   ]
  },
  {
   "cell_type": "markdown",
   "metadata": {},
   "source": [
    "## Calender Functionality"
   ]
  },
  {
   "cell_type": "code",
   "execution_count": 27,
   "metadata": {},
   "outputs": [
    {
     "name": "stdout",
     "output_type": "stream",
     "text": [
      "Enter file name: test01.ics\n"
     ]
    }
   ],
   "source": [
    "#create new file if requested file does not exist\n",
    "#https://stackoverflow.com/questions/35807605/create-a-file-if-it-doesnt-exist\n",
    "fn = input('Enter file name: ')\n",
    "try:\n",
    "    file = open(fn, 'r')\n",
    "except IOError:\n",
    "    file = open(fn, 'w')"
   ]
  },
  {
   "cell_type": "code",
   "execution_count": 38,
   "metadata": {},
   "outputs": [],
   "source": [
    "#run interface ##leave at the bottom  ###will have a loading star as long as in use\n",
    "master.mainloop()"
   ]
  },
  {
   "cell_type": "code",
   "execution_count": null,
   "metadata": {},
   "outputs": [],
   "source": []
  }
 ],
 "metadata": {
  "kernelspec": {
   "display_name": "Python 3",
   "language": "python",
   "name": "python3"
  },
  "language_info": {
   "codemirror_mode": {
    "name": "ipython",
    "version": 3
   },
   "file_extension": ".py",
   "mimetype": "text/x-python",
   "name": "python",
   "nbconvert_exporter": "python",
   "pygments_lexer": "ipython3",
   "version": "3.7.1"
  }
 },
 "nbformat": 4,
 "nbformat_minor": 2
}
