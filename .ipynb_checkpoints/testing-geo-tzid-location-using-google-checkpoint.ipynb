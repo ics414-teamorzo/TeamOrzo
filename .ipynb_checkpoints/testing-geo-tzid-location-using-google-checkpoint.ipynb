{
 "cells": [
  {
   "cell_type": "markdown",
   "metadata": {},
   "source": [
    "Time zone identifier (3.8.3.1)\n",
    "• Property Name: TZID\n",
    "\n",
    "• Purpose: This property specifies the text value that uniquely identifies the \"VTIMEZONE\" calendar component in the scope of an iCalendar object.\n",
    "\n",
    "• value type is either DATE-TIME or TIME and not intended to specify a UTC or a \"floating\" time. The presence of the SOLIDUS character as a prefix, indicates that this \"TZID\" represents an unique ID in a globally defined time zone registry (when such registry is defined).\n",
    "\n",
    "• public-domain TZ database TZDB\n",
    "\n",
    "• Example: The following are examples of non-globally unique time zone identifiers:\n",
    "\n",
    "   TZID:America/New_York\n",
    "\n",
    "   TZID:America/Los_Angeles\n",
    "• The following is an example of a fictitious globally unique time zone identifier:\n",
    "\n",
    "   TZID:/example.org/America/New_York"
   ]
  },
  {
   "cell_type": "markdown",
   "metadata": {},
   "source": [
    "Geographic Position (3.8.1.6)\n",
    "• Property Name: GEO\n",
    "\n",
    "• Purpose: This property specifies information related to the global position for the activity specified by a calendar component.\n",
    "\n",
    "• Value Type: FLOAT. The value MUST be two SEMICOLON-separated FLOAT values.\n",
    "\n",
    "• geovalue = float \";\" float = Latitude and Longitude components\n",
    "\n",
    "  GEO:37.386013;-122.082932"
   ]
  },
  {
   "cell_type": "code",
   "execution_count": 13,
   "metadata": {},
   "outputs": [
    {
     "name": "stdout",
     "output_type": "stream",
     "text": [
      "Requirement already satisfied: geocoder in /anaconda3/lib/python3.7/site-packages (1.38.1)\n",
      "Requirement already satisfied: ratelim in /anaconda3/lib/python3.7/site-packages (from geocoder) (0.1.6)\n",
      "Requirement already satisfied: six in /anaconda3/lib/python3.7/site-packages (from geocoder) (1.12.0)\n",
      "Requirement already satisfied: future in /anaconda3/lib/python3.7/site-packages (from geocoder) (0.17.1)\n",
      "Requirement already satisfied: requests in /anaconda3/lib/python3.7/site-packages (from geocoder) (2.21.0)\n",
      "Requirement already satisfied: click in /anaconda3/lib/python3.7/site-packages (from geocoder) (7.0)\n",
      "Requirement already satisfied: decorator in /anaconda3/lib/python3.7/site-packages (from ratelim->geocoder) (4.3.0)\n",
      "Requirement already satisfied: certifi>=2017.4.17 in /anaconda3/lib/python3.7/site-packages (from requests->geocoder) (2018.11.29)\n",
      "Requirement already satisfied: urllib3<1.25,>=1.21.1 in /anaconda3/lib/python3.7/site-packages (from requests->geocoder) (1.24.1)\n",
      "Requirement already satisfied: idna<2.9,>=2.5 in /anaconda3/lib/python3.7/site-packages (from requests->geocoder) (2.8)\n",
      "Requirement already satisfied: chardet<3.1.0,>=3.0.2 in /anaconda3/lib/python3.7/site-packages (from requests->geocoder) (3.0.4)\n"
     ]
    },
    {
     "data": {
      "text/plain": [
       "''"
      ]
     },
     "execution_count": 13,
     "metadata": {},
     "output_type": "execute_result"
    }
   ],
   "source": [
    "# imports\n",
    "\n",
    "# https://www.tutorialspoint.com/python/python_gui_programming.htm\n",
    "from tkinter import *\n",
    "\n",
    "! pip install geocoder\n",
    "\n",
    "master = Tk()\n",
    "master.title(\"Calendering System\") "
   ]
  },
  {
   "cell_type": "code",
   "execution_count": 14,
   "metadata": {},
   "outputs": [],
   "source": [
    " #### GRID NUMBERING #####\n",
    "titleR = 0\n",
    "titleC= 0\n",
    "\n",
    "sumR = titleR + 4\n",
    "\n",
    "startR = sumR + 1\n",
    "\n",
    "endR = startR + 2\n",
    "\n",
    "adR = endR + 2\n",
    "\n",
    "pR = adR + 2\n",
    "\n",
    "recR = pR + 1\n",
    "\n",
    "buttonR = recR + 2"
   ]
  },
  {
   "cell_type": "code",
   "execution_count": 15,
   "metadata": {},
   "outputs": [],
   "source": [
    "####  GEOGRAPHICAL LOACTION / TIME ZONE / LOCATION / ADDRESS  ####\n",
    "Label(master, text=\"ADDRESS:\").grid(row=adR,column=titleC)\n",
    "\n",
    "Label(master, text=\"Street\").grid(row=adR,column=titleC+1)\n",
    "Label(master, text=\"Town/City\").grid(row=adR+1,column=titleC+1)\n",
    "Label(master, text=\"State\").grid(row=adR+1,column=titleC+3)\n",
    "Label(master, text=\"Zipcode\").grid(row=adR+1,column=titleC+5)\n",
    "\n",
    "street = Entry(master)\n",
    "town = Entry(master)\n",
    "state = Entry(master)\n",
    "zipcode = Entry(master)\n",
    "\n",
    "street.grid(row=adR, column=titleC+2)\n",
    "town.grid(row=adR+1, column=titleC+2)\n",
    "state.grid(row=adR+1, column=titleC+4)\n",
    "zipcode.grid(row=adR+1, column=titleC+6)"
   ]
  },
  {
   "cell_type": "code",
   "execution_count": 16,
   "metadata": {},
   "outputs": [
    {
     "ename": "NameError",
     "evalue": "name 'geocoder' is not defined",
     "output_type": "error",
     "traceback": [
      "\u001b[0;31m---------------------------------------------------------------------------\u001b[0m",
      "\u001b[0;31mNameError\u001b[0m                                 Traceback (most recent call last)",
      "\u001b[0;32m<ipython-input-16-3b3d81ee75ca>\u001b[0m in \u001b[0;36m<module>\u001b[0;34m\u001b[0m\n\u001b[0;32m----> 1\u001b[0;31m \u001b[0mg\u001b[0m \u001b[0;34m=\u001b[0m \u001b[0mgeocoder\u001b[0m\u001b[0;34m.\u001b[0m\u001b[0mgoogle\u001b[0m\u001b[0;34m(\u001b[0m\u001b[0mstreet\u001b[0m\u001b[0;34m,\u001b[0m \u001b[0mstate\u001b[0m\u001b[0;34m)\u001b[0m\u001b[0;34m\u001b[0m\u001b[0;34m\u001b[0m\u001b[0m\n\u001b[0m\u001b[1;32m      2\u001b[0m \u001b[0mg\u001b[0m\u001b[0;34m.\u001b[0m\u001b[0mlatlng\u001b[0m\u001b[0;34m\u001b[0m\u001b[0;34m\u001b[0m\u001b[0m\n",
      "\u001b[0;31mNameError\u001b[0m: name 'geocoder' is not defined"
     ]
    }
   ],
   "source": [
    "g = geocoder.google(street, state)\n",
    "g.latlng"
   ]
  },
  {
   "cell_type": "code",
   "execution_count": null,
   "metadata": {},
   "outputs": [],
   "source": []
  },
  {
   "cell_type": "code",
   "execution_count": null,
   "metadata": {},
   "outputs": [],
   "source": []
  }
 ],
 "metadata": {
  "kernelspec": {
   "display_name": "Python 3",
   "language": "python",
   "name": "python3"
  },
  "language_info": {
   "codemirror_mode": {
    "name": "ipython",
    "version": 3
   },
   "file_extension": ".py",
   "mimetype": "text/x-python",
   "name": "python",
   "nbconvert_exporter": "python",
   "pygments_lexer": "ipython3",
   "version": "3.7.1"
  }
 },
 "nbformat": 4,
 "nbformat_minor": 2
}
