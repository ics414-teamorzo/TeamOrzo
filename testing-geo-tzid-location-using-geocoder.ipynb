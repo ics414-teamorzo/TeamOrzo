{
 "cells": [
  {
   "cell_type": "markdown",
   "metadata": {},
   "source": [
    "Time zone identifier (3.8.3.1)\n",
    "• Property Name: TZID\n",
    "\n",
    "• Purpose: This property specifies the text value that uniquely identifies the \"VTIMEZONE\" calendar component in the scope of an iCalendar object.\n",
    "\n",
    "• value type is either DATE-TIME or TIME and not intended to specify a UTC or a \"floating\" time. The presence of the SOLIDUS character as a prefix, indicates that this \"TZID\" represents an unique ID in a globally defined time zone registry (when such registry is defined).\n",
    "\n",
    "• public-domain TZ database TZDB\n",
    "\n",
    "• Example: The following are examples of non-globally unique time zone identifiers:\n",
    "\n",
    "   TZID:America/New_York\n",
    "\n",
    "   TZID:America/Los_Angeles\n",
    "• The following is an example of a fictitious globally unique time zone identifier:\n",
    "\n",
    "   TZID:/example.org/America/New_York"
   ]
  },
  {
   "cell_type": "markdown",
   "metadata": {},
   "source": [
    "Geographic Position (3.8.1.6)\n",
    "• Property Name: GEO\n",
    "\n",
    "• Purpose: This property specifies information related to the global position for the activity specified by a calendar component.\n",
    "\n",
    "• Value Type: FLOAT. The value MUST be two SEMICOLON-separated FLOAT values.\n",
    "\n",
    "• geovalue = float \";\" float = Latitude and Longitude components\n",
    "\n",
    "  GEO:37.386013;-122.082932"
   ]
  },
  {
   "cell_type": "code",
   "execution_count": 4,
   "metadata": {},
   "outputs": [],
   "source": [
    "# imports\n",
    "import geocoder # pip install geocoder"
   ]
  },
  {
   "cell_type": "code",
   "execution_count": 5,
   "metadata": {},
   "outputs": [],
   "source": [
    "g = geocoder.google('7250 South Tucson Boulevard, Tucson, AZ 85756\"')"
   ]
  },
  {
   "cell_type": "code",
   "execution_count": 6,
   "metadata": {},
   "outputs": [
    {
     "data": {
      "text/plain": [
       "(None, None)"
      ]
     },
     "execution_count": 6,
     "metadata": {},
     "output_type": "execute_result"
    }
   ],
   "source": [
    "g.lat, g.lng"
   ]
  },
  {
   "cell_type": "code",
   "execution_count": null,
   "metadata": {},
   "outputs": [],
   "source": []
  },
  {
   "cell_type": "code",
   "execution_count": null,
   "metadata": {},
   "outputs": [],
   "source": []
  },
  {
   "cell_type": "code",
   "execution_count": null,
   "metadata": {},
   "outputs": [],
   "source": []
  }
 ],
 "metadata": {
  "kernelspec": {
   "display_name": "Python 3",
   "language": "python",
   "name": "python3"
  },
  "language_info": {
   "codemirror_mode": {
    "name": "ipython",
    "version": 3
   },
   "file_extension": ".py",
   "mimetype": "text/x-python",
   "name": "python",
   "nbconvert_exporter": "python",
   "pygments_lexer": "ipython3",
   "version": "3.7.1"
  }
 },
 "nbformat": 4,
 "nbformat_minor": 2
}
