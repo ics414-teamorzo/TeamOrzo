{
 "cells": [
  {
   "cell_type": "markdown",
   "metadata": {},
   "source": [
    "# Team Orzo\n",
    "\n",
    "### RFC 5545 Calendering.ics\n",
    "\n",
    "Neezha Dinman, Karissa Kuynh\n",
    "\n",
    "        A system to create .ics files that can be emailed or shared, and read into the recipient’s calendars. Functionality will include Versioning, Classification, Geographic Position, Priority, Summary, DTSTART, DTEND, Time Zone Identifier, some asspect of Recurring Events. Descriptions of functionality can be found at https://tools.ietf.org/html/rfc7986"
   ]
  },
  {
   "cell_type": "code",
   "execution_count": 1,
   "metadata": {},
   "outputs": [],
   "source": [
    "# imports\n",
    "\n",
    "# https://www.tutorialspoint.com/python/python_gui_programming.htm\n",
    "from tkinter import * \n",
    "master = Tk()\n"
   ]
  },
  {
   "cell_type": "markdown",
   "metadata": {},
   "source": [
    "## User Interface"
   ]
  },
  {
   "cell_type": "code",
   "execution_count": 2,
   "metadata": {},
   "outputs": [],
   "source": [
    "MONTHS = [\n",
    "\"January\", \"Febuary\", \"March\", \"April\", \"May\", \"June\", \"July\", \"August\", \"September\", \"October\", \"November\", \"December\"\n",
    "] "
   ]
  },
  {
   "cell_type": "code",
   "execution_count": 53,
   "metadata": {},
   "outputs": [],
   "source": [
    "month = StringVar(master).set(MONTHS[0]) # default month\n",
    "\n",
    "ms = OptionMenu(master, month, *MONTHS)\n",
    "# ms.pack(side=tk.RIGHT)"
   ]
  },
  {
   "cell_type": "code",
   "execution_count": 4,
   "metadata": {},
   "outputs": [],
   "source": [
    "master.title(\"Listbox\")\n",
    "\n",
    "months = Listbox(master, selectbackground=\"Blue\")\n",
    "months.grid(row=3, column=1)\n",
    "\n",
    "for month in MONTHS:\n",
    "    months.insert(END, month)"
   ]
  },
  {
   "cell_type": "code",
   "execution_count": 5,
   "metadata": {},
   "outputs": [],
   "source": [
    "# Open ended feilds\n",
    "Label(master, text=\"SUMMARY\").grid(row=0, column=0)\n",
    "Label(master, text=\"DTSTART\").grid(row=1,column=0)\n",
    "Label(master, text=\"DTEND\").grid(row=2,column=0)\n",
    "Label(master, text=\"MONTH\").grid(row=3,column=0)\n",
    "\n",
    "e1 = Entry(master)\n",
    "e2 = Entry(master)\n",
    "e3 = Entry(master)\n",
    "# ms = OptionMenu(master, month, *MONTHS)\n",
    "\n",
    "#ms.pack(side=tk.RIGHT)\n",
    "#e1.pack(side=tk.LEFT)\n",
    "#e2.pack(side=tk.LEFT)\n",
    "#e3.pack(side=tk.LEFT)\n",
    "\n",
    "e1.grid(row=0, column=1)\n",
    "e2.grid(row=1, column=1)\n",
    "e3.grid(row=2, column=1)\n",
    "#months.gird(row=3, column=1)"
   ]
  },
  {
   "cell_type": "markdown",
   "metadata": {},
   "source": [
    "### "
   ]
  },
  {
   "cell_type": "code",
   "execution_count": 18,
   "metadata": {},
   "outputs": [
    {
     "ename": "TclError",
     "evalue": "cannot use geometry manager pack inside . which already has slaves managed by grid",
     "output_type": "error",
     "traceback": [
      "\u001b[1;31m---------------------------------------------------------------------------\u001b[0m",
      "\u001b[1;31mTclError\u001b[0m                                  Traceback (most recent call last)",
      "\u001b[1;32m<ipython-input-18-b4c7235104a1>\u001b[0m in \u001b[0;36m<module>\u001b[1;34m\u001b[0m\n\u001b[0;32m      3\u001b[0m \u001b[1;33m\u001b[0m\u001b[0m\n\u001b[0;32m      4\u001b[0m \u001b[0mw\u001b[0m \u001b[1;33m=\u001b[0m \u001b[0mOptionMenu\u001b[0m\u001b[1;33m(\u001b[0m\u001b[0mtop\u001b[0m\u001b[1;33m,\u001b[0m \u001b[0mvariable\u001b[0m\u001b[1;33m,\u001b[0m \u001b[1;33m*\u001b[0m\u001b[0mMONTHS\u001b[0m\u001b[1;33m)\u001b[0m\u001b[1;33m\u001b[0m\u001b[1;33m\u001b[0m\u001b[0m\n\u001b[1;32m----> 5\u001b[1;33m \u001b[0mw\u001b[0m\u001b[1;33m.\u001b[0m\u001b[0mpack\u001b[0m\u001b[1;33m(\u001b[0m\u001b[1;33m)\u001b[0m\u001b[1;33m\u001b[0m\u001b[1;33m\u001b[0m\u001b[0m\n\u001b[0m\u001b[0;32m      6\u001b[0m \u001b[1;33m\u001b[0m\u001b[0m\n\u001b[0;32m      7\u001b[0m \u001b[1;32mdef\u001b[0m \u001b[0mok\u001b[0m\u001b[1;33m(\u001b[0m\u001b[1;33m)\u001b[0m\u001b[1;33m:\u001b[0m\u001b[1;33m\u001b[0m\u001b[1;33m\u001b[0m\u001b[0m\n",
      "\u001b[1;32m~\\Anaconda3\\lib\\tkinter\\__init__.py\u001b[0m in \u001b[0;36mpack_configure\u001b[1;34m(self, cnf, **kw)\u001b[0m\n\u001b[0;32m   2141\u001b[0m         self.tk.call(\n\u001b[0;32m   2142\u001b[0m               \u001b[1;33m(\u001b[0m\u001b[1;34m'pack'\u001b[0m\u001b[1;33m,\u001b[0m \u001b[1;34m'configure'\u001b[0m\u001b[1;33m,\u001b[0m \u001b[0mself\u001b[0m\u001b[1;33m.\u001b[0m\u001b[0m_w\u001b[0m\u001b[1;33m)\u001b[0m\u001b[1;33m\u001b[0m\u001b[1;33m\u001b[0m\u001b[0m\n\u001b[1;32m-> 2143\u001b[1;33m               + self._options(cnf, kw))\n\u001b[0m\u001b[0;32m   2144\u001b[0m     \u001b[0mpack\u001b[0m \u001b[1;33m=\u001b[0m \u001b[0mconfigure\u001b[0m \u001b[1;33m=\u001b[0m \u001b[0mconfig\u001b[0m \u001b[1;33m=\u001b[0m \u001b[0mpack_configure\u001b[0m\u001b[1;33m\u001b[0m\u001b[1;33m\u001b[0m\u001b[0m\n\u001b[0;32m   2145\u001b[0m     \u001b[1;32mdef\u001b[0m \u001b[0mpack_forget\u001b[0m\u001b[1;33m(\u001b[0m\u001b[0mself\u001b[0m\u001b[1;33m)\u001b[0m\u001b[1;33m:\u001b[0m\u001b[1;33m\u001b[0m\u001b[1;33m\u001b[0m\u001b[0m\n",
      "\u001b[1;31mTclError\u001b[0m: cannot use geometry manager pack inside . which already has slaves managed by grid"
     ]
    }
   ],
   "source": [
    "variable = StringVar(master)\n",
    "variable.set(MONTHS[0]) # default value\n",
    "\n",
    "w = OptionMenu(master, variable, *MONTHS)\n",
    "w.pack()\n",
    "\n",
    "def ok():\n",
    "    print (\"value is:\" + variable.get())\n",
    "\n",
    "button = Button(master, text=\"OK\", command=ok)\n",
    "button.pack()\n"
   ]
  },
  {
   "cell_type": "code",
   "execution_count": 10,
   "metadata": {},
   "outputs": [],
   "source": [
    "#Store User Input"
   ]
  },
  {
   "cell_type": "markdown",
   "metadata": {},
   "source": [
    "## Calender Functionality"
   ]
  },
  {
   "cell_type": "code",
   "execution_count": 27,
   "metadata": {},
   "outputs": [
    {
     "name": "stdout",
     "output_type": "stream",
     "text": [
      "Enter file name: test01.ics\n"
     ]
    }
   ],
   "source": [
    "#create new file if requested file does not exist\n",
    "#https://stackoverflow.com/questions/35807605/create-a-file-if-it-doesnt-exist\n",
    "fn = input('Enter file name: ')\n",
    "try:\n",
    "    file = open(fn, 'r')\n",
    "except IOError:\n",
    "    file = open(fn, 'w')"
   ]
  },
  {
   "cell_type": "code",
   "execution_count": 6,
   "metadata": {},
   "outputs": [],
   "source": [
    "#run interface ##leave at the bottom  ###will have a loading star as long as in use\n",
    "master.mainloop()"
   ]
  },
  {
   "cell_type": "code",
   "execution_count": null,
   "metadata": {},
   "outputs": [],
   "source": []
  }
 ],
 "metadata": {
  "kernelspec": {
   "display_name": "Python 3",
   "language": "python",
   "name": "python3"
  },
  "language_info": {
   "codemirror_mode": {
    "name": "ipython",
    "version": 3
   },
   "file_extension": ".py",
   "mimetype": "text/x-python",
   "name": "python",
   "nbconvert_exporter": "python",
   "pygments_lexer": "ipython3",
   "version": "3.7.1"
  }
 },
 "nbformat": 4,
 "nbformat_minor": 2
}
