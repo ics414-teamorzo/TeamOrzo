{
 "cells": [
  {
   "cell_type": "markdown",
   "metadata": {},
   "source": [
    "## Team Orzo\n",
    "\n",
    "### RFC 5545 Calendering.ics\n",
    "Neezha Dinman, Karissa Kuynh\n",
    "        A system to create .ics files that can be emailed or shared, and read into the recipient’s calendars. Functionality will include Versioning, Classification, Geographic Position, Priority, Summary, DTSTART, DTEND, Time Zone Identifier, some asspect of Recurring Events. Descriptions of functionality can be found at https://tools.ietf.org/html/rfc7986"
   ]
  },
  {
   "cell_type": "code",
   "execution_count": null,
   "metadata": {},
   "outputs": [],
   "source": [
    "# https://www.tutorialspoint.com/python/python_gui_programming.htm\n",
    "from tkinter import * \n",
    "top = Tk()"
   ]
  },
  {
   "cell_type": "code",
   "execution_count": null,
   "metadata": {},
   "outputs": [],
   "source": [
    "# User Interface\n",
    "Label(top, text=\"SUMMARY\").grid(row=0)\n",
    "Label(top, text=\"DTSTART\").grid(row=1)\n",
    "Label(top, text=\"DTEND\").grid(row=2)\n",
    "\n",
    "e1 = Entry(top)\n",
    "e2 = Entry(top)\n",
    "e3 = Entry(top)\n",
    "\n",
    "e1.grid(row=0, column=1)\n",
    "e2.grid(row=1, column=1)\n",
    "e3.grid(row=2, column=1)"
   ]
  },
  {
   "cell_type": "code",
   "execution_count": null,
   "metadata": {},
   "outputs": [],
   "source": [
    "#Store User Input"
   ]
  },
  {
   "cell_type": "code",
   "execution_count": null,
   "metadata": {},
   "outputs": [],
   "source": [
    "#Calender Functionality"
   ]
  },
  {
   "cell_type": "code",
   "execution_count": null,
   "metadata": {},
   "outputs": [],
   "source": [
    "#create new file if requested file does not exist\n",
    "#https://stackoverflow.com/questions/35807605/create-a-file-if-it-doesnt-exist\n",
    "fn = input('Enter file name: ')\n",
    "try:\n",
    "    file = open(fn, 'r')\n",
    "except IOError:\n",
    "    file = open(fn, 'w')"
   ]
  },
  {
   "cell_type": "code",
   "execution_count": 7,
   "metadata": {},
   "outputs": [],
   "source": [
    "#run ##leave at the bottom\n",
    "top.mainloop()"
   ]
  },
  {
   "cell_type": "code",
   "execution_count": null,
   "metadata": {},
   "outputs": [],
   "source": []
  }
 ],
 "metadata": {
  "kernelspec": {
   "display_name": "Python 3",
   "language": "python",
   "name": "python3"
  },
  "language_info": {
   "codemirror_mode": {
    "name": "ipython",
    "version": 3
   },
   "file_extension": ".py",
   "mimetype": "text/x-python",
   "name": "python",
   "nbconvert_exporter": "python",
   "pygments_lexer": "ipython3",
   "version": "3.7.1"
  }
 },
 "nbformat": 4,
 "nbformat_minor": 2
}
