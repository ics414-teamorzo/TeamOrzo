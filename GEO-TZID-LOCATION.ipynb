{
 "cells": [
  {
   "cell_type": "markdown",
   "metadata": {},
   "source": [
    "Time zone identifier (3.8.3.1)\n",
    "• Property Name: TZID\n",
    "\n",
    "• Purpose: This property specifies the text value that uniquely identifies the \"VTIMEZONE\" calendar component in the scope of an iCalendar object.\n",
    "\n",
    "• value type is either DATE-TIME or TIME and not intended to specify a UTC or a \"floating\" time. The presence of the SOLIDUS character as a prefix, indicates that this \"TZID\" represents an unique ID in a globally defined time zone registry (when such registry is defined).\n",
    "\n",
    "• public-domain TZ database TZDB\n",
    "\n",
    "• Example: The following are examples of non-globally unique time zone identifiers:\n",
    "\n",
    "   TZID:America/New_York\n",
    "\n",
    "   TZID:America/Los_Angeles\n",
    "• The following is an example of a fictitious globally unique time zone identifier:\n",
    "\n",
    "   TZID:/example.org/America/New_York"
   ]
  },
  {
   "cell_type": "markdown",
   "metadata": {},
   "source": [
    "Geographic Position (3.8.1.6)\n",
    "• Property Name: GEO\n",
    "\n",
    "• Purpose: This property specifies information related to the global position for the activity specified by a calendar component.\n",
    "\n",
    "• Value Type: FLOAT. The value MUST be two SEMICOLON-separated FLOAT values.\n",
    "\n",
    "• geovalue = float \";\" float = Latitude and Longitude components\n",
    "\n",
    "  GEO:37.386013;-122.082932"
   ]
  },
  {
   "cell_type": "code",
   "execution_count": null,
   "metadata": {},
   "outputs": [],
   "source": [
    "# imports\n",
    "\n",
    "# https://www.tutorialspoint.com/python/python_gui_programming.htm\n",
    "from tkinter import * \n",
    "\n",
    "master = Tk()\n",
    "master.title(\"Calendering System\") "
   ]
  },
  {
   "cell_type": "code",
   "execution_count": null,
   "metadata": {},
   "outputs": [],
   "source": [
    "#### GRID NUMBERING #####\n",
    "titleR = 0\n",
    "titleC= 0\n",
    "\n",
    "sumR = titleR + 4\n",
    "\n",
    "startR = sumR + 1\n",
    "\n",
    "endR = startR + 2\n",
    "\n",
    "adR = endR + 2\n",
    "\n",
    "pR = adR + 2\n",
    "\n",
    "recR = pR + 1\n",
    "\n",
    "buttonR = recR + 2"
   ]
  },
  {
   "cell_type": "code",
   "execution_count": null,
   "metadata": {},
   "outputs": [],
   "source": [
    "####  GEOGRAPHICAL LOACTION / TIME ZONE / LOCATION / ADDRESS  ####\n",
    "Label(master, text=\"ADDRESS:\").grid(row=adR,column=titleC)\n",
    "\n",
    "Label(master, text=\"Street\").grid(row=adR,column=titleC+1)\n",
    "Label(master, text=\"Town/City\").grid(row=adR+1,column=titleC+1)\n",
    "Label(master, text=\"State\").grid(row=adR+1,column=titleC+3)\n",
    "Label(master, text=\"Zipcode\").grid(row=adR+1,column=titleC+5)\n",
    "\n",
    "street = Entry(master)\n",
    "town = Entry(master)\n",
    "state = Entry(master)\n",
    "zipcode = Entry(master)\n",
    "\n",
    "street.grid(row=adR, column=titleC+2)\n",
    "town.grid(row=adR+1, column=titleC+2)\n",
    "state.grid(row=adR+1, column=titleC+4)\n",
    "zipcode.grid(row=adR+1, column=titleC+6)"
   ]
  },
  {
   "cell_type": "code",
   "execution_count": null,
   "metadata": {},
   "outputs": [],
   "source": [
    "####  BASED ON USER INPUT ####"
   ]
  },
  {
   "cell_type": "code",
   "execution_count": null,
   "metadata": {},
   "outputs": [],
   "source": [
    "#run interface ##leave at the bottom  ###will have a loading star as long as in use\n",
    "master.mainloop()"
   ]
  }
 ],
 "metadata": {
  "kernelspec": {
   "display_name": "Python 3",
   "language": "python",
   "name": "python3"
  },
  "language_info": {
   "codemirror_mode": {
    "name": "ipython",
    "version": 3
   },
   "file_extension": ".py",
   "mimetype": "text/x-python",
   "name": "python",
   "nbconvert_exporter": "python",
   "pygments_lexer": "ipython3",
   "version": "3.7.1"
  }
 },
 "nbformat": 4,
 "nbformat_minor": 2
}
